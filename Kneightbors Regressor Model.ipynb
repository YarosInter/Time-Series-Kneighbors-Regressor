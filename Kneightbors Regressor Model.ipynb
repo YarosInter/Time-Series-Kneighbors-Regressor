{
 "cells": [
  {
   "cell_type": "markdown",
   "id": "cbd066a5-3d11-4b86-8278-37501d3a9f1b",
   "metadata": {},
   "source": [
    "# Time Series Kneightbors Regressor Algorithm\n",
    "\n",
    "This algorithm is used to forecast FOREX prices for the USDCAD pair. It fetches data from MetaTrader5 and applies feature engineering to create additional data.\n",
    "\n",
    "The forecasted values are set to:\n",
    "- **Position 1** if the prediction indicates that the price will go up in the next hour\n",
    "- **Position 0** if the prediction indicates that the price will go down in the nex hourx hour"
   ]
  },
  {
   "cell_type": "code",
   "execution_count": 6,
   "id": "25264374-0802-461f-80f9-333ae3e652e4",
   "metadata": {},
   "outputs": [],
   "source": [
    "import numpy as np\n",
    "import pandas as pd\n",
    "import matplotlib.pyplot as plt\n",
    "plt.style.use(\"seaborn-v0_8-darkgrid\")\n",
    "from matplotlib import cycler\n",
    "import warnings\n",
    "warnings.filterwarnings(\"ignore\")\n",
    "import seaborn as sns\n",
    "import MetaTrader5 as mt5\n",
    "from datetime import datetime\n",
    "from UsefulFunctions import data, backtest"
   ]
  },
  {
   "cell_type": "code",
   "execution_count": null,
   "id": "0a49634d-dc6c-4a95-81cb-ac335912b115",
   "metadata": {},
   "outputs": [],
   "source": []
  }
 ],
 "metadata": {
  "kernelspec": {
   "display_name": "Python 3 (ipykernel)",
   "language": "python",
   "name": "python3"
  },
  "language_info": {
   "codemirror_mode": {
    "name": "ipython",
    "version": 3
   },
   "file_extension": ".py",
   "mimetype": "text/x-python",
   "name": "python",
   "nbconvert_exporter": "python",
   "pygments_lexer": "ipython3",
   "version": "3.12.4"
  }
 },
 "nbformat": 4,
 "nbformat_minor": 5
}
